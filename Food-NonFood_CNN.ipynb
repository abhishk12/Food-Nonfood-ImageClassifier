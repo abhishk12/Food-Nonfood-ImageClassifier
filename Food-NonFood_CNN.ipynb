{
  "nbformat": 4,
  "nbformat_minor": 0,
  "metadata": {
    "colab": {
      "name": "FoodVsNonFood_CNN.ipynb",
      "provenance": [],
      "collapsed_sections": []
    },
    "kernelspec": {
      "name": "python3",
      "display_name": "Python 3"
    },
    "language_info": {
      "name": "python"
    },
    "accelerator": "GPU"
  },
  "cells": [
    {
      "cell_type": "code",
      "metadata": {
        "id": "qyFIv_utK4MV"
      },
      "source": [
        "import numpy as np\n",
        "import matplotlib.pyplot as plt\n",
        "import tensorflow as tf\n",
        "import tensorflow.keras.layers as tfl\n",
        "import h5py"
      ],
      "execution_count": 1,
      "outputs": []
    },
    {
      "cell_type": "markdown",
      "metadata": {
        "id": "0-au1wKP-gHm"
      },
      "source": [
        "# ***Loading dataset***"
      ]
    },
    {
      "cell_type": "code",
      "metadata": {
        "id": "0itMTjnp9I37"
      },
      "source": [
        "all_dataset = h5py.File(\"./drive/MyDrive/FoodVsNonFood_dataset/datasets.hdf5\", \"r\")"
      ],
      "execution_count": 2,
      "outputs": []
    },
    {
      "cell_type": "code",
      "metadata": {
        "id": "aqn8IJfT-jqd"
      },
      "source": [
        "X_train = np.array(all_dataset[\"train_set_X\"])\n",
        "y_train = np.array(all_dataset[\"train_set_y\"])"
      ],
      "execution_count": 3,
      "outputs": []
    },
    {
      "cell_type": "code",
      "metadata": {
        "id": "HTvBWCHl-s9I"
      },
      "source": [
        "X_val = np.array(all_dataset[\"val_set_X\"])\n",
        "y_val = np.array(all_dataset[\"val_set_y\"])"
      ],
      "execution_count": 4,
      "outputs": []
    },
    {
      "cell_type": "code",
      "metadata": {
        "id": "VxLPwoTw-2yo"
      },
      "source": [
        "X_eval = np.array(all_dataset[\"eval_set_X\"])\n",
        "y_eval = np.array(all_dataset[\"eval_set_y\"])"
      ],
      "execution_count": 5,
      "outputs": []
    },
    {
      "cell_type": "code",
      "metadata": {
        "colab": {
          "base_uri": "https://localhost:8080/"
        },
        "id": "Fi6y228z-_ei",
        "outputId": "dce1d161-3647-47f3-f15d-024cd8899969"
      },
      "source": [
        "print(\"X_train shape = \", X_train.shape)\n",
        "print(\"y_train shape = \", y_train.shape)\n",
        "print(\"X_val shape = \", X_val.shape)\n",
        "print(\"y_val shape = \", y_val.shape)\n",
        "print(\"X_eval shape = \", X_eval.shape)\n",
        "print(\"y_eval shape = \", y_eval.shape)"
      ],
      "execution_count": 6,
      "outputs": [
        {
          "output_type": "stream",
          "name": "stdout",
          "text": [
            "X_train shape =  (3000, 64, 64, 3)\n",
            "y_train shape =  (3000,)\n",
            "X_val shape =  (1000, 64, 64, 3)\n",
            "y_val shape =  (1000,)\n",
            "X_eval shape =  (1000, 64, 64, 3)\n",
            "y_eval shape =  (1000,)\n"
          ]
        }
      ]
    },
    {
      "cell_type": "markdown",
      "metadata": {
        "id": "Px5OhD-5_uHN"
      },
      "source": [
        "# ***reshaping y's***"
      ]
    },
    {
      "cell_type": "code",
      "metadata": {
        "id": "GBmus_YH_xxt"
      },
      "source": [
        "y_train = y_train.reshape(3000,1)\n",
        "y_val = y_val.reshape(1000,1)\n",
        "y_eval = y_eval.reshape(1000,1)"
      ],
      "execution_count": 7,
      "outputs": []
    },
    {
      "cell_type": "code",
      "metadata": {
        "colab": {
          "base_uri": "https://localhost:8080/"
        },
        "id": "YRijxKSaAHHt",
        "outputId": "fe5fb0bd-0330-4dfc-8107-a5fc1a02d53f"
      },
      "source": [
        "print(\"=========== Reshaped Y's =============\")\n",
        "print(\"y_train shape = \", y_train.shape)\n",
        "print(\"y_val shape = \", y_val.shape)\n",
        "print(\"y_eval shape = \", y_eval.shape)"
      ],
      "execution_count": 8,
      "outputs": [
        {
          "output_type": "stream",
          "name": "stdout",
          "text": [
            "=========== Reshaped Y's =============\n",
            "y_train shape =  (3000, 1)\n",
            "y_val shape =  (1000, 1)\n",
            "y_eval shape =  (1000, 1)\n"
          ]
        }
      ]
    },
    {
      "cell_type": "markdown",
      "metadata": {
        "id": "q_RuRLJKAcXD"
      },
      "source": [
        "# ***Normalizing features***"
      ]
    },
    {
      "cell_type": "code",
      "metadata": {
        "id": "BSc4T1zhAfsg"
      },
      "source": [
        "X_train_norm = X_train/255.0\n",
        "X_val_norm = X_val/255.0\n",
        "X_eval_norm = X_eval/255.0"
      ],
      "execution_count": 9,
      "outputs": []
    },
    {
      "cell_type": "code",
      "metadata": {
        "colab": {
          "base_uri": "https://localhost:8080/"
        },
        "id": "txHyG6kTB7xc",
        "outputId": "381be303-df40-4e43-9fd3-8d70483c9a25"
      },
      "source": [
        "print(\"------- Normalized features ---------\")\n",
        "print(\"X_train_norm shape = \", X_train_norm.shape)\n",
        "print(\"X_val_norm shape = \", X_val_norm.shape)\n",
        "print(\"X_eval_norm shape = \", X_eval_norm.shape)"
      ],
      "execution_count": 10,
      "outputs": [
        {
          "output_type": "stream",
          "name": "stdout",
          "text": [
            "------- Normalized features ---------\n",
            "X_train_norm shape =  (3000, 64, 64, 3)\n",
            "X_val_norm shape =  (1000, 64, 64, 3)\n",
            "X_eval_norm shape =  (1000, 64, 64, 3)\n"
          ]
        }
      ]
    },
    {
      "cell_type": "markdown",
      "metadata": {
        "id": "s9rDENNKCUOP"
      },
      "source": [
        "# ***Final dataset !***"
      ]
    },
    {
      "cell_type": "code",
      "metadata": {
        "colab": {
          "base_uri": "https://localhost:8080/"
        },
        "id": "SAIDHEKHCYXG",
        "outputId": "4b33d918-d81f-4a3f-e40e-1c158f2aa1a3"
      },
      "source": [
        "print(\"==================================================================\")\n",
        "print(\"Number of train examples = \", X_train_norm.shape[0])\n",
        "print(\"Number of validation examples = \", X_val_norm.shape[0])\n",
        "print(\"Number of evaluation examples = \", X_eval_norm.shape[0])\n",
        "print(\"- - - - - - - - - - - - - - - - - - - - - - - \")\n",
        "print(\"X_train_norm shape = \", X_train_norm.shape)\n",
        "print(\"y_train shape = \", y_train.shape)\n",
        "print(\"X_val_norm shape = \", X_val_norm.shape)\n",
        "print(\"y_val shape = \", y_val.shape)\n",
        "print(\"X_eval_norm shape = \", X_eval_norm.shape)\n",
        "print(\"y_eval shape = \", y_eval.shape)\n",
        "print(\"==================================================================\")"
      ],
      "execution_count": 11,
      "outputs": [
        {
          "output_type": "stream",
          "name": "stdout",
          "text": [
            "==================================================================\n",
            "Number of train examples =  3000\n",
            "Number of validation examples =  1000\n",
            "Number of evaluation examples =  1000\n",
            "- - - - - - - - - - - - - - - - - - - - - - - \n",
            "X_train_norm shape =  (3000, 64, 64, 3)\n",
            "y_train shape =  (3000, 1)\n",
            "X_val_norm shape =  (1000, 64, 64, 3)\n",
            "y_val shape =  (1000, 1)\n",
            "X_eval_norm shape =  (1000, 64, 64, 3)\n",
            "y_eval shape =  (1000, 1)\n",
            "==================================================================\n"
          ]
        }
      ]
    },
    {
      "cell_type": "markdown",
      "metadata": {
        "id": "-JKsy1iTDkEz"
      },
      "source": [
        "# ***display image***"
      ]
    },
    {
      "cell_type": "code",
      "metadata": {
        "colab": {
          "base_uri": "https://localhost:8080/",
          "height": 268
        },
        "id": "nQqZJKKxDmzm",
        "outputId": "55f16159-deca-4fa7-8dde-f707f3096bf2"
      },
      "source": [
        "index = 100\n",
        "plt.imshow(X_train[index]) #display sample training image\n",
        "plt.show()"
      ],
      "execution_count": 12,
      "outputs": [
        {
          "output_type": "display_data",
          "data": {
            "image/png": "[encoded data removed]",
            "text/plain": [
              "<Figure size 432x288 with 1 Axes>"
            ]
          },
          "metadata": {
            "needs_background": "light"
          }
        }
      ]
    },
    {
      "cell_type": "markdown",
      "metadata": {
        "id": "xhXvYehQFQ0I"
      },
      "source": [
        "# ***building keras' Sequential model***"
      ]
    },
    {
      "cell_type": "code",
      "metadata": {
        "id": "cnvBfe68FV1D"
      },
      "source": [
        "def foodModel():\n",
        "\n",
        "  model = tf.keras.Sequential([\n",
        "                               tf.keras.layers.ZeroPadding2D(padding=3, input_shape = (64,64,3)),\n",
        "                               tf.keras.layers.Conv2D(64, (11,11), strides=1),\n",
        "                               tf.keras.layers.BatchNormalization(axis = 3),\n",
        "                               tf.keras.layers.ReLU(),\n",
        "                               tf.keras.layers.MaxPool2D(),\n",
        "\n",
        "                               tf.keras.layers.Conv2D(64, (2,2), strides=1),\n",
        "                               tf.keras.layers.BatchNormalization(axis = 3),\n",
        "                               tf.keras.layers.ReLU(),\n",
        "                               tf.keras.layers.MaxPool2D(),\n",
        "                               \n",
        "\n",
        "                               tf.keras.layers.Conv2D(64, (2,2), strides=1),\n",
        "                               tf.keras.layers.BatchNormalization(axis = 3),\n",
        "                               tf.keras.layers.ReLU(),\n",
        "                               tf.keras.layers.MaxPool2D(),\n",
        "\n",
        "                               tf.keras.layers.Flatten(),\n",
        "                               tf.keras.layers.Dense(1, activation=\"sigmoid\")\n",
        "])\n",
        "  return model"
      ],
      "execution_count": 44,
      "outputs": []
    },
    {
      "cell_type": "markdown",
      "metadata": {
        "id": "3Alv_FBQH3YG"
      },
      "source": [
        "# ***compile foodModel()***"
      ]
    },
    {
      "cell_type": "code",
      "metadata": {
        "id": "W8Iy6aNYH7Im"
      },
      "source": [
        "food_model = foodModel()"
      ],
      "execution_count": 45,
      "outputs": []
    },
    {
      "cell_type": "code",
      "metadata": {
        "id": "Q9pSIP8KIUkI"
      },
      "source": [
        "food_model.compile(optimizer='adam',\n",
        "                   loss = 'binary_crossentropy',\n",
        "                   metrics = ['accuracy'])"
      ],
      "execution_count": 46,
      "outputs": []
    },
    {
      "cell_type": "markdown",
      "metadata": {
        "id": "eeDbwloBKDao"
      },
      "source": [
        "# ***summary of food_model***"
      ]
    },
    {
      "cell_type": "code",
      "metadata": {
        "colab": {
          "base_uri": "https://localhost:8080/"
        },
        "id": "93mLmQLpKGmN",
        "outputId": "e409b456-ba11-4116-811d-9e5798457692"
      },
      "source": [
        "food_model.summary()"
      ],
      "execution_count": 47,
      "outputs": [
        {
          "output_type": "stream",
          "name": "stdout",
          "text": [
            "Model: \"sequential_5\"\n",
            "_________________________________________________________________\n",
            "Layer (type)                 Output Shape              Param #   \n",
            "=================================================================\n",
            "zero_padding2d_5 (ZeroPaddin (None, 70, 70, 3)         0         \n",
            "_________________________________________________________________\n",
            "conv2d_15 (Conv2D)           (None, 60, 60, 64)        23296     \n",
            "_________________________________________________________________\n",
            "batch_normalization_15 (Batc (None, 60, 60, 64)        256       \n",
            "_________________________________________________________________\n",
            "re_lu_15 (ReLU)              (None, 60, 60, 64)        0         \n",
            "_________________________________________________________________\n",
            "max_pooling2d_15 (MaxPooling (None, 30, 30, 64)        0         \n",
            "_________________________________________________________________\n",
            "conv2d_16 (Conv2D)           (None, 29, 29, 64)        16448     \n",
            "_________________________________________________________________\n",
            "batch_normalization_16 (Batc (None, 29, 29, 64)        256       \n",
            "_________________________________________________________________\n",
            "re_lu_16 (ReLU)              (None, 29, 29, 64)        0         \n",
            "_________________________________________________________________\n",
            "max_pooling2d_16 (MaxPooling (None, 14, 14, 64)        0         \n",
            "_________________________________________________________________\n",
            "conv2d_17 (Conv2D)           (None, 13, 13, 64)        16448     \n",
            "_________________________________________________________________\n",
            "batch_normalization_17 (Batc (None, 13, 13, 64)        256       \n",
            "_________________________________________________________________\n",
            "re_lu_17 (ReLU)              (None, 13, 13, 64)        0         \n",
            "_________________________________________________________________\n",
            "max_pooling2d_17 (MaxPooling (None, 6, 6, 64)          0         \n",
            "_________________________________________________________________\n",
            "flatten_5 (Flatten)          (None, 2304)              0         \n",
            "_________________________________________________________________\n",
            "dense_5 (Dense)              (None, 1)                 2305      \n",
            "=================================================================\n",
            "Total params: 59,265\n",
            "Trainable params: 58,881\n",
            "Non-trainable params: 384\n",
            "_________________________________________________________________\n"
          ]
        }
      ]
    },
    {
      "cell_type": "markdown",
      "metadata": {
        "id": "wBajAN8qKPob"
      },
      "source": [
        "# ***train model***"
      ]
    },
    {
      "cell_type": "code",
      "metadata": {
        "colab": {
          "base_uri": "https://localhost:8080/"
        },
        "id": "TrtIstRkKSvt",
        "outputId": "a6de8a19-2c4a-4d62-ae02-9890d61e3edd"
      },
      "source": [
        "food_model.fit(X_train_norm, y_train, epochs=12, batch_size=32)"
      ],
      "execution_count": 48,
      "outputs": [
        {
          "output_type": "stream",
          "name": "stdout",
          "text": [
            "Epoch 1/12\n",
            "94/94 [==============================] - 3s 25ms/step - loss: 0.4456 - accuracy: 0.8020\n",
            "Epoch 2/12\n",
            "94/94 [==============================] - 2s 23ms/step - loss: 0.3432 - accuracy: 0.8543\n",
            "Epoch 3/12\n",
            "94/94 [==============================] - 2s 23ms/step - loss: 0.3053 - accuracy: 0.8747\n",
            "Epoch 4/12\n",
            "94/94 [==============================] - 2s 23ms/step - loss: 0.2416 - accuracy: 0.8980\n",
            "Epoch 5/12\n",
            "94/94 [==============================] - 2s 23ms/step - loss: 0.2244 - accuracy: 0.9123\n",
            "Epoch 6/12\n",
            "94/94 [==============================] - 2s 23ms/step - loss: 0.1918 - accuracy: 0.9217\n",
            "Epoch 7/12\n",
            "94/94 [==============================] - 2s 23ms/step - loss: 0.1752 - accuracy: 0.9340\n",
            "Epoch 8/12\n",
            "94/94 [==============================] - 2s 23ms/step - loss: 0.1306 - accuracy: 0.9553\n",
            "Epoch 9/12\n",
            "94/94 [==============================] - 2s 23ms/step - loss: 0.1205 - accuracy: 0.9543\n",
            "Epoch 10/12\n",
            "94/94 [==============================] - 2s 23ms/step - loss: 0.1142 - accuracy: 0.9543\n",
            "Epoch 11/12\n",
            "94/94 [==============================] - 2s 23ms/step - loss: 0.0916 - accuracy: 0.9693\n",
            "Epoch 12/12\n",
            "94/94 [==============================] - 2s 23ms/step - loss: 0.0802 - accuracy: 0.9753\n"
          ]
        },
        {
          "output_type": "execute_result",
          "data": {
            "text/plain": [
              "<keras.callbacks.History at 0x7efe511966d0>"
            ]
          },
          "metadata": {},
          "execution_count": 48
        }
      ]
    },
    {
      "cell_type": "markdown",
      "metadata": {
        "id": "-I0M3f45Lqsd"
      },
      "source": [
        "# ***evaluate model***"
      ]
    },
    {
      "cell_type": "code",
      "metadata": {
        "colab": {
          "base_uri": "https://localhost:8080/"
        },
        "id": "aye8an6dLtsq",
        "outputId": "accc9e41-13c8-49aa-eb5b-9acc272f0c2e"
      },
      "source": [
        "food_model.evaluate(X_val_norm, y_val)"
      ],
      "execution_count": 49,
      "outputs": [
        {
          "output_type": "stream",
          "name": "stdout",
          "text": [
            "32/32 [==============================] - 1s 13ms/step - loss: 0.3078 - accuracy: 0.8670\n"
          ]
        },
        {
          "output_type": "execute_result",
          "data": {
            "text/plain": [
              "[0.3077860176563263, 0.8669999837875366]"
            ]
          },
          "metadata": {},
          "execution_count": 49
        }
      ]
    },
    {
      "cell_type": "code",
      "metadata": {
        "id": "SIRy1uIZLzcV"
      },
      "source": [
        "food_model.save(\"my_food_model(88_99).h5\")"
      ],
      "execution_count": 25,
      "outputs": []
    }
  ]
}